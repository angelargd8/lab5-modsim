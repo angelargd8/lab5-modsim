{
 "cells": [
  {
   "cell_type": "markdown",
   "id": "8677464c",
   "metadata": {},
   "source": [
    "# Laboratorio 5\n",
    "\n",
    "Integrantes: \n",
    "\n",
    "    - Francis Aguilar - 22243 \n",
    "    - Diego García - 22404 \n",
    "    - Angela García -22869 \n",
    "\n",
    "enlace al repositorio: https://github.com/angelargd8/lab5-modsim"
   ]
  },
  {
   "cell_type": "markdown",
   "id": "a5b37fe1",
   "metadata": {},
   "source": [
    "# Teoría \n",
    "\n",
    "**1. ¿Cuál es la característica más definitoria de una red libre de escala que la diferencia de una red aleatoria (Erdős-Rényi)? Explique por qué esta característica obliga a los modeladores a ir más allá de los modelos que se basan únicamente en propiedades promedio (como el modelo SIR clásico).** \n",
    "\n",
    "La característica más definitoria de una red libre de escala que la diferencia de una red aleatoria es la distribución de gradoss con cola pesada y la existencia de hubs, la diferencia es que en una red aleatoria la distribución de grados sigue la distribución de Poisson, mientras que la red libre de escala sigue la de la ley de la potencia. Esto lo que hace es que obliga a los modelos homógeneos promedio como el SIR, porque los hubs dominan la dinámica de propagación y no se puede ignorar con un número promedio de contactos. \n",
    "\n",
    "**2. Considere la fórmula de la ley de potencia vista en clase. ¿Qué implica un valor menor de gamma (por ejemplo, 2,1 frente a 3,5) sobre la prevalencia de nodos altamente conectados en la red?**\n",
    "\n",
    "Si gamma tuviera un valor de 3.5, sería un valor alto, entonces la probabilidad decae rápido, la red todavía tendría hubs, aunque los nodos con muchas conexiones sería raro y la red sería homogénea. \n",
    "Y si gamma tuviera 2.1 sería un valor bajo, y la probabilidad decaería lentamente, porque la cola sería pesada y los nodos tendrían un grado muy alto y más frecuentes. Además, al tener una mayor prevalencia la red es más heterogénea.\n",
    "\n",
    "\n",
    "**3. ¿Por qué el número reproductivo básico R0 para una enfermedad que se propaga en una red libre de escala depende de la varianza de la distribución de grados, no solo de la media?**\n",
    "\n",
    "El R0 en redes libres de escala depende de la varianza porque los hubs los que son pocos pero muy conectados dominan la transmisión y al ignorar la varianza y si solo se usa la media, entonces subestimaría el portencial de propagación. Ya que se tiene que tomar en cuenta que en las redes libres existe la escala la heterogeneidad. Por lo tanto, no todos los nodos tienen el mismo grado, ya que unos tienen hubs con miles de conexiones. \n",
    "\n",
    "\n",
    "\n",
    "**4. ¿Por qué las intervenciones dirigidas (p. ej., centrar las pruebas, el uso de mascarillas o la vacunación en los centros de la red) son particularmente eficaces y eficientes en una red sin escala en comparación con una red aleatoria? Explíquelo desde una perspectiva matemática y práctica.**\n",
    "\n",
    "En una red aleatoria, la distribución de grados es aproximadamente Poisson, la mayoría de los nodos tienen un número de conexiones cercano a la media y todos los nodos son parecidos.\n",
    "\n",
    "Se tiene que tomar en cuenta que el número reproducitov básico se aproxima como:\n",
    "$$\n",
    "R_0 ∝ β * (⟨k^2⟩​)/(⟨k⟩)\n",
    "$$\n",
    "Y dado a que\n",
    "$$\n",
    "⟨k^2⟩ ≈⟨k^2⟩ + ⟨k⟩\n",
    "$$\n",
    "\n",
    "\n",
    "Entonces si solo se atacan unos pocos realmente no va a cambiar el promedio.\n",
    "\n",
    "\n",
    "Mientras, que en la red libre escala, la distribución sigue la ley de la potencia que es \n",
    "$$\n",
    "P(k) ∼ k^{\\text{−γ}}\n",
    "$$\n",
    "\n",
    "Y eso implica que ⟨k^2⟩ puede ser muy grande o divergir cuando γ =< 3 \n",
    "$$\n",
    "⟨k^2⟩ ≈⟨k^2⟩ + ⟨k⟩\n",
    "$$\n",
    "y aquí pocos hubs se inflan de manera desproporcionada y si se eliminan o se protegen a esos hubs ⟨k^2⟩ se reduce draticamente.\n",
    "\n",
    "Entonces, la heterogeneidad que hacen las redes libres de escala más vulnerables a epidemuas también las hacec más fáciles de controlar si se actua de una forma dirigida.\n",
    "\n",
    "\n"
   ]
  }
 ],
 "metadata": {
  "language_info": {
   "name": "python"
  }
 },
 "nbformat": 4,
 "nbformat_minor": 5
}
