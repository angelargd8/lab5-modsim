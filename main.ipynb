{
 "cells": [
  {
   "cell_type": "markdown",
   "id": "8677464c",
   "metadata": {},
   "source": [
    "# Laboratorio 5\n",
    "\n",
    "Integrantes: \n",
    "\n",
    "    - Francis Aguilar - 22243 \n",
    "    - Diego García - 22404 \n",
    "    - Angela García -22869 \n",
    "\n",
    "enlace al repositorio: https://github.com/angelargd8/lab5-modsim"
   ]
  },
  {
   "cell_type": "markdown",
   "id": "7220d752",
   "metadata": {},
   "source": [
    "## Teoría "
   ]
  },
  {
   "cell_type": "markdown",
   "id": "a5b37fe1",
   "metadata": {},
   "source": [
    "**1. ¿Cuál es la característica más definitoria de una red libre de escala que la diferencia de una red aleatoria (Erdős-Rényi)? Explique por qué esta característica obliga a los modeladores a ir más allá de los modelos que se basan únicamente en propiedades promedio (como el modelo SIR clásico).** \n",
    "\n",
    "La característica más definitoria de una red libre de escala que la diferencia de una red aleatoria es la distribución de gradoss con cola pesada y la existencia de hubs, la diferencia es que en una red aleatoria la distribución de grados sigue la distribución de Poisson, mientras que la red libre de escala sigue la de la ley de la potencia. Esto lo que hace es que obliga a los modelos homógeneos promedio como el SIR, porque los hubs dominan la dinámica de propagación y no se puede ignorar con un número promedio de contactos. \n",
    "\n",
    "**2. Considere la fórmula de la ley de potencia vista en clase. ¿Qué implica un valor menor de gamma (por ejemplo, 2,1 frente a 3,5) sobre la prevalencia de nodos altamente conectados en la red?**\n",
    "\n",
    "Si gamma tuviera un valor de 3.5, sería un valor alto, entonces la probabilidad decae rápido, la red todavía tendría hubs, aunque los nodos con muchas conexiones sería raro y la red sería homogénea. \n",
    "Y si gamma tuviera 2.1 sería un valor bajo, y la probabilidad decaería lentamente, porque la cola sería pesada y los nodos tendrían un grado muy alto y más frecuentes. Además, al tener una mayor prevalencia la red es más heterogénea.\n",
    "\n",
    "\n",
    "**3. ¿Por qué el número reproductivo básico R0 para una enfermedad que se propaga en una red libre de escala depende de la varianza de la distribución de grados, no solo de la media?**\n",
    "\n",
    "El R0 en redes libres de escala depende de la varianza porque los hubs los que son pocos pero muy conectados dominan la transmisión y al ignorar la varianza y si solo se usa la media, entonces subestimaría el portencial de propagación. Ya que se tiene que tomar en cuenta que en las redes libres existe la escala la heterogeneidad. Por lo tanto, no todos los nodos tienen el mismo grado, ya que unos tienen hubs con miles de conexiones. \n",
    "\n",
    "\n",
    "\n",
    "**4. ¿Por qué las intervenciones dirigidas (p. ej., centrar las pruebas, el uso de mascarillas o la vacunación en los centros de la red) son particularmente eficaces y eficientes en una red sin escala en comparación con una red aleatoria? Explíquelo desde una perspectiva matemática y práctica.**\n",
    "\n",
    "En una red aleatoria, la distribución de grados es aproximadamente Poisson, la mayoría de los nodos tienen un número de conexiones cercano a la media y todos los nodos son parecidos.\n",
    "\n",
    "Se tiene que tomar en cuenta que el número reproducitov básico se aproxima como:\n",
    "$$\n",
    "R_0 ∝ β * (⟨k^2⟩​)/(⟨k⟩)\n",
    "$$\n",
    "Y dado a que\n",
    "$$\n",
    "⟨k^2⟩ ≈⟨k^2⟩ + ⟨k⟩\n",
    "$$\n",
    "\n",
    "\n",
    "Entonces si solo se atacan unos pocos realmente no va a cambiar el promedio.\n",
    "\n",
    "\n",
    "Mientras, que en la red libre escala, la distribución sigue la ley de la potencia que es \n",
    "$$\n",
    "P(k) ∼ k^{\\text{−γ}}\n",
    "$$\n",
    "\n",
    "Y eso implica que ⟨k^2⟩ puede ser muy grande o divergir cuando γ =< 3 \n",
    "$$\n",
    "⟨k^2⟩ ≈⟨k^2⟩ + ⟨k⟩\n",
    "$$\n",
    "y aquí pocos hubs se inflan de manera desproporcionada y si se eliminan o se protegen a esos hubs ⟨k^2⟩ se reduce draticamente.\n",
    "\n",
    "Entonces, la heterogeneidad que hacen las redes libres de escala más vulnerables a epidemuas también las hacec más fáciles de controlar si se actua de una forma dirigida.\n",
    "\n",
    "\n"
   ]
  },
  {
   "cell_type": "markdown",
   "id": "cc7a03d7",
   "metadata": {},
   "source": [
    "## Práctica"
   ]
  },
  {
   "cell_type": "code",
   "execution_count": 4,
   "id": "b98b0b39",
   "metadata": {},
   "outputs": [],
   "source": [
    "import numpy as np\n",
    "import networkx as nx\n",
    "import matplotlib.pyplot as plt\n",
    "\n",
    "# Reproducibilidad\n",
    "NP_SEED = 42\n",
    "NX_SEED = 42\n",
    "rng = np.random.default_rng(NP_SEED)"
   ]
  },
  {
   "cell_type": "code",
   "execution_count": null,
   "id": "a40e677a",
   "metadata": {},
   "outputs": [],
   "source": [
    "# === Parámetros globales de la práctica ===\n",
    "N = 1000         # número de nodos\n",
    "m = 3            # parámetro Barabási–Albert\n",
    "\n",
    "G_ba = None; deg_ba = None; mean_ba = None; var_ba = None\n",
    "G_er = None; deg_er = None; mean_er = None; var_er = None\n"
   ]
  },
  {
   "cell_type": "code",
   "execution_count": 6,
   "id": "77d22d7c",
   "metadata": {},
   "outputs": [
    {
     "name": "stdout",
     "output_type": "stream",
     "text": [
      "Nodos: 1000  | Aristas: 2991\n"
     ]
    }
   ],
   "source": [
    "# Red libre de escala (Barabási–Albert)\n",
    "G_ba = nx.barabasi_albert_graph(N, m, seed=NX_SEED)\n",
    "\n",
    "print(\"Nodos:\", G_ba.number_of_nodes(), \" | Aristas:\", G_ba.number_of_edges())\n"
   ]
  },
  {
   "cell_type": "code",
   "execution_count": null,
   "id": "01b22924",
   "metadata": {},
   "outputs": [
    {
     "name": "stdout",
     "output_type": "stream",
     "text": [
      "BA — N=1000, k̄=5.982 (≈ esperado 6), Var=52.766, k_min=3, k_max=93\n"
     ]
    }
   ],
   "source": [
    "deg_ba = np.fromiter((d for _, d in G_ba.degree()), dtype=int)\n",
    "mean_ba = float(deg_ba.mean())\n",
    "var_ba  = float(deg_ba.var(ddof=0))\n",
    "\n",
    "print(f\"BA — N={len(deg_ba)}, k̄={mean_ba:.3f} (≈ esperado {2*m}), Var={var_ba:.3f}, \"\n",
    "      f\"k_min={deg_ba.min()}, k_max={deg_ba.max()}\")"
   ]
  },
  {
   "cell_type": "code",
   "execution_count": 9,
   "id": "d91a0495",
   "metadata": {},
   "outputs": [
    {
     "data": {
      "image/png": "[encoded data removed]",
      "text/plain": [
       "<Figure size 700x400 with 1 Axes>"
      ]
     },
     "metadata": {},
     "output_type": "display_data"
    }
   ],
   "source": [
    "bins = np.arange(deg_ba.min() - 0.5, deg_ba.max() + 1.5, 1)\n",
    "plt.figure(figsize=(7,4))\n",
    "plt.hist(deg_ba, bins=bins)\n",
    "plt.xlabel(\"Grado (k)\")\n",
    "plt.ylabel(\"Frecuencia\")\n",
    "plt.title(\"BA: Distribución de grados\")\n",
    "plt.grid(True, linestyle=\":\", alpha=0.4)\n",
    "plt.show()"
   ]
  },
  {
   "cell_type": "markdown",
   "id": "3a222403",
   "metadata": {},
   "source": [
    "### Informe de hallazgos"
   ]
  },
  {
   "cell_type": "markdown",
   "id": "8b9c06a3",
   "metadata": {},
   "source": [
    "**Describe la marcada diferencia en la forma de los dos histogramas de escala lineal. ¿Qué te dice la forma de la distribución de la red sin escala sobre su estructura?**\n",
    "BA muestra una cola pesada: muchísimos nodos con grado bajo (pico cerca de 3) y unos pocos hubs con grados muy altos (hasta 93), lo que da varianza alta (52.8).\n",
    "\n",
    "**¿Qué revela el gráfico logarítmico de la distribución de grados de la red sin escala?¿Qué confirma la línea de tendencia aproximadamente lineal?**<br>\n",
    "El gráfico logaritmico de la disrtibución BA muestra una cola casi lineal, lo que demuestra la ley de potencia aproximada\n",
    "$$\n",
    "P(k) ∼ k^{\\text{−γ}}\n",
    "$$\n",
    "Esta tendencia casi lineal confirma la falta de escala típica de grado y presencia de hubs que dominan la conectividad y la dinámica de propagación."
   ]
  }
 ],
 "metadata": {
  "kernelspec": {
   "display_name": "Python (tf_env)",
   "language": "python",
   "name": "tf_env"
  },
  "language_info": {
   "codemirror_mode": {
    "name": "ipython",
    "version": 3
   },
   "file_extension": ".py",
   "mimetype": "text/x-python",
   "name": "python",
   "nbconvert_exporter": "python",
   "pygments_lexer": "ipython3",
   "version": "3.10.11"
  }
 },
 "nbformat": 4,
 "nbformat_minor": 5
}
